{
 "cells": [
  {
   "cell_type": "markdown",
   "id": "f8444e1b",
   "metadata": {},
   "source": [
    "## 0. Import Necessary Libraries"
   ]
  },
  {
   "cell_type": "code",
   "execution_count": 75,
   "id": "dfd9221e",
   "metadata": {},
   "outputs": [],
   "source": [
    "import glob\n",
    "import os\n",
    "import json\n",
    "import pandas as pd\n",
    "import matplotlib.pyplot as plt"
   ]
  },
  {
   "cell_type": "markdown",
   "id": "4db1b7eb",
   "metadata": {},
   "source": [
    "## 1. Load the Data"
   ]
  },
  {
   "cell_type": "markdown",
   "id": "79dab454",
   "metadata": {},
   "source": [
    "### 1.1. Create a list of files in the folder"
   ]
  },
  {
   "cell_type": "code",
   "execution_count": 2,
   "id": "86c1513e",
   "metadata": {},
   "outputs": [],
   "source": [
    "file_list = glob.glob(os.path.join(os.getcwd(), \"D:/Users/suuser/Desktop/Cesitli/SICSS/data/vaccine_tweets\", \"*.json\"))\n",
    "\n",
    "tweet_list = [s for s in file_list if \"data_\" in s]\n",
    "user_list  = [s for s in file_list if \"users_\" in s]"
   ]
  },
  {
   "cell_type": "markdown",
   "id": "1a0a5587",
   "metadata": {},
   "source": [
    "### 1.2. Collect all .json files"
   ]
  },
  {
   "cell_type": "code",
   "execution_count": 3,
   "id": "6d2ab49a",
   "metadata": {},
   "outputs": [],
   "source": [
    "tweet_data = []\n",
    "\n",
    "for file_name in tweet_list:\n",
    "    with open(file_name, encoding=\"utf8\") as json_file:\n",
    "        json_file = json.load(json_file)\n",
    "        for data in json_file:\n",
    "            tweet_data.append(data)\n",
    "            \n",
    "\n",
    "user_data = []\n",
    "\n",
    "for file_name in user_list:\n",
    "    with open(file_name, encoding=\"utf8\") as json_file:\n",
    "        json_file = json.load(json_file)\n",
    "        for data in json_file['users']:\n",
    "            user_data.append(data)"
   ]
  },
  {
   "cell_type": "markdown",
   "id": "e82b8c8e",
   "metadata": {},
   "source": [
    "### 1.3. Convert to Pandas DataFrame"
   ]
  },
  {
   "cell_type": "code",
   "execution_count": 4,
   "id": "f6e8a343",
   "metadata": {
    "scrolled": true
   },
   "outputs": [],
   "source": [
    "tweet_data = pd.DataFrame(tweet_data)\n",
    "user_data = pd.DataFrame(user_data)"
   ]
  },
  {
   "cell_type": "markdown",
   "id": "b0b9d53b",
   "metadata": {},
   "source": [
    "### 1.4. Drop Unnecessary Columns"
   ]
  },
  {
   "cell_type": "code",
   "execution_count": 6,
   "id": "c4a945e6",
   "metadata": {},
   "outputs": [],
   "source": [
    "tweet_data.drop(columns=['entities','context_annotations', 'referenced_tweets', 'conversation_id', 'source', 'attachments', \n",
    "                         'in_reply_to_user_id', 'withheld', 'geo'], inplace=True)\n",
    "\n",
    "\n",
    "user_data.drop(columns=['protected','profile_image_url','pinned_tweet_id', 'url', 'entities', 'withheld'], inplace=True)"
   ]
  },
  {
   "cell_type": "markdown",
   "id": "6f7d7f2c",
   "metadata": {},
   "source": [
    "### 1.5. Change Column Names of user_data"
   ]
  },
  {
   "cell_type": "code",
   "execution_count": 18,
   "id": "2f949a23",
   "metadata": {},
   "outputs": [],
   "source": [
    "user_data.columns = ['user_' + x for x in user_data.columns]"
   ]
  },
  {
   "cell_type": "markdown",
   "id": "a87b24b5",
   "metadata": {},
   "source": [
    "### 1.6. Merge tweet_data & user_data"
   ]
  },
  {
   "cell_type": "code",
   "execution_count": 35,
   "id": "8ec2861a",
   "metadata": {
    "scrolled": true
   },
   "outputs": [],
   "source": [
    "df = tweet_data.merge(user_data.drop_duplicates('user_id'), how='left', left_on = 'author_id', right_on = 'user_id')\n",
    "df.drop(columns=['user_id'], inplace=True)"
   ]
  },
  {
   "cell_type": "markdown",
   "id": "305c9fab",
   "metadata": {},
   "source": [
    "### 1.7. Convert Associated Columns to Datetime"
   ]
  },
  {
   "cell_type": "code",
   "execution_count": 73,
   "id": "7d3b4751",
   "metadata": {},
   "outputs": [],
   "source": [
    "df.created_at = pd.to_datetime(df.created_at)\n",
    "df.user_created_at = pd.to_datetime(df.user_created_at)"
   ]
  },
  {
   "cell_type": "markdown",
   "id": "530f5c06",
   "metadata": {},
   "source": [
    "### 1.8. Save Data as .csv"
   ]
  },
  {
   "cell_type": "code",
   "execution_count": 37,
   "id": "6410cd4c",
   "metadata": {},
   "outputs": [],
   "source": [
    "df.to_csv('D:/Users/suuser/Desktop/Cesitli/SICSS/data/df.csv')"
   ]
  },
  {
   "cell_type": "markdown",
   "id": "0dad0236",
   "metadata": {},
   "source": [
    "## 2. Counting Things"
   ]
  },
  {
   "cell_type": "markdown",
   "id": "938705af",
   "metadata": {},
   "source": [
    "### 2.1. Create Categorical Variables for Each Keyword"
   ]
  },
  {
   "cell_type": "code",
   "execution_count": 68,
   "id": "9ed09453",
   "metadata": {
    "scrolled": true
   },
   "outputs": [],
   "source": [
    "#Çin aşısı\n",
    "df.loc[df.text.str.lower().str.contains('cin asi|çin aşı|çın aşı|çin aşi|cın ası|cın aşı|çın aşi|çin asi|cin aşı'), 'cin_asi'] = 1\n",
    "\n",
    "#Sinovac\n",
    "df.loc[df.text.str.lower().str.contains('sinovac|sınovac|sınovaç|sinovaç|sinovak|coronavac'), 'sinovac'] = 1\n",
    "\n",
    "#Alman Aşısı\n",
    "df.loc[df.text.str.lower().str.contains('alman asi|alman aşı|alman aşi'), 'alman_asi'] = 1\n",
    "\n",
    "#Biontech\n",
    "df.loc[df.text.str.lower().str.contains('biontech|bıontech|biontec|bıontec'), 'biontech'] = 1\n",
    "\n",
    "#Pfizer\n",
    "df.loc[df.text.str.lower().str.contains('pfizer|pfızer'), 'pfizer'] = 1\n",
    "\n",
    "#Gavur Aşısı\n",
    "df.loc[df.text.str.lower().str.contains('gavur aşı|gavur aşi|gavur asi'), 'gavur_asi'] = 1"
   ]
  },
  {
   "cell_type": "code",
   "execution_count": 110,
   "id": "0b77e543",
   "metadata": {},
   "outputs": [],
   "source": [
    "df['created_month'] = df.created_at.dt.to_period('m')"
   ]
  },
  {
   "cell_type": "code",
   "execution_count": 124,
   "id": "c421ebf3",
   "metadata": {
    "scrolled": false
   },
   "outputs": [
    {
     "data": {
      "text/plain": [
       "<Figure size 864x432 with 0 Axes>"
      ]
     },
     "metadata": {},
     "output_type": "display_data"
    },
    {
     "data": {
      "image/png": "[encoded data removed]",
      "text/plain": [
       "<Figure size 432x288 with 1 Axes>"
      ]
     },
     "metadata": {
      "needs_background": "light"
     },
     "output_type": "display_data"
    }
   ],
   "source": [
    "plt.figure(figsize=(12,6))\n",
    "df.pivot_table(values=['cin_asi','sinovac'], index='created_month', aggfunc='sum').reset_index().plot()\n",
    "plt.show()"
   ]
  },
  {
   "cell_type": "code",
   "execution_count": 127,
   "id": "5808ac7a",
   "metadata": {},
   "outputs": [
    {
     "data": {
      "text/plain": [
       "<Figure size 864x432 with 0 Axes>"
      ]
     },
     "metadata": {},
     "output_type": "display_data"
    },
    {
     "data": {
      "image/png": "[encoded data removed]",
      "text/plain": [
       "<Figure size 432x288 with 1 Axes>"
      ]
     },
     "metadata": {
      "needs_background": "light"
     },
     "output_type": "display_data"
    }
   ],
   "source": [
    "plt.figure(figsize=(12,6))\n",
    "df.pivot_table(values=['biontech','pfizer'], index='created_month', aggfunc='sum').reset_index().plot()\n",
    "plt.show()"
   ]
  },
  {
   "cell_type": "code",
   "execution_count": 128,
   "id": "aa66e518",
   "metadata": {
    "scrolled": true
   },
   "outputs": [
    {
     "data": {
      "text/plain": [
       "<Figure size 864x432 with 0 Axes>"
      ]
     },
     "metadata": {},
     "output_type": "display_data"
    },
    {
     "data": {
      "image/png": "[encoded data removed]",
      "text/plain": [
       "<Figure size 432x288 with 1 Axes>"
      ]
     },
     "metadata": {
      "needs_background": "light"
     },
     "output_type": "display_data"
    }
   ],
   "source": [
    "plt.figure(figsize=(12,6))\n",
    "df.pivot_table(values=['gavur_asi'], index='created_month', aggfunc='sum').reset_index().plot()\n",
    "plt.show()"
   ]
  },
  {
   "cell_type": "markdown",
   "id": "e42878b9",
   "metadata": {},
   "source": [
    "## 3. Pronoun Extraction"
   ]
  },
  {
   "cell_type": "code",
   "execution_count": 130,
   "id": "ed5e70bb",
   "metadata": {},
   "outputs": [
    {
     "data": {
      "application/vnd.jupyter.widget-view+json": {
       "model_id": "d54b0d61859e49499e9dd0abfc22b2d3",
       "version_major": 2,
       "version_minor": 0
      },
      "text/plain": [
       "Downloading:   0%|          | 0.00/385 [00:00<?, ?B/s]"
      ]
     },
     "metadata": {},
     "output_type": "display_data"
    },
    {
     "data": {
      "application/vnd.jupyter.widget-view+json": {
       "model_id": "7bfc416c77b04305b6182d31947594de",
       "version_major": 2,
       "version_minor": 0
      },
      "text/plain": [
       "Downloading:   0%|          | 0.00/251k [00:00<?, ?B/s]"
      ]
     },
     "metadata": {},
     "output_type": "display_data"
    },
    {
     "data": {
      "application/vnd.jupyter.widget-view+json": {
       "model_id": "036621815a3841f2aaa9548f0b7d8680",
       "version_major": 2,
       "version_minor": 0
      },
      "text/plain": [
       "Downloading:   0%|          | 0.00/60.0 [00:00<?, ?B/s]"
      ]
     },
     "metadata": {},
     "output_type": "display_data"
    },
    {
     "data": {
      "application/vnd.jupyter.widget-view+json": {
       "model_id": "dd9b5e34e0c5495496d5c8f6f3b83926",
       "version_major": 2,
       "version_minor": 0
      },
      "text/plain": [
       "Downloading:   0%|          | 0.00/445M [00:00<?, ?B/s]"
      ]
     },
     "metadata": {},
     "output_type": "display_data"
    }
   ],
   "source": [
    "from transformers import AutoModel, AutoTokenizer\n",
    "\n",
    "tokenizer = AutoTokenizer.from_pretrained(\"dbmdz/bert-base-turkish-cased\")\n",
    "model = AutoModel.from_pretrained(\"dbmdz/bert-base-turkish-cased\")"
   ]
  },
  {
   "cell_type": "code",
   "execution_count": 152,
   "id": "4e1cb63a",
   "metadata": {
    "scrolled": true
   },
   "outputs": [
    {
     "data": {
      "text/plain": [
       "0         Bu aşı tutarsa ... senaryo belli .\\nGerisi mal...\n",
       "1         @sputnik_TR Acaba Corona virüsünün hangi versi...\n",
       "2         Yeni tip koronavirüse (Kovid-19) karşı ABD Kar...\n",
       "3         📍ABD ordusundan \"koronavirüs aşısı farelerde d...\n",
       "4         @traderAT12 Pfizer, koronavirüs tedavileri pot...\n",
       "                                ...                        \n",
       "598093    @halukvehaluk ya hu biz biontech olduk yandan ...\n",
       "598094    @mekselenya @haskologlu Sinovac ol o zaman mrn...\n",
       "598095    Bu iyi haber değil 😔 Bir an önce herkesi Biont...\n",
       "598096    Biontech Covid19 aşısı erkeklerde sperm sayısı...\n",
       "598097    @kub_kub_kubra @DrGunerSonmez Tabiki değilim.2...\n",
       "Name: text, Length: 598098, dtype: object"
      ]
     },
     "execution_count": 152,
     "metadata": {},
     "output_type": "execute_result"
    }
   ],
   "source": [
    "df.text"
   ]
  },
  {
   "cell_type": "code",
   "execution_count": 144,
   "id": "2ce1d929",
   "metadata": {},
   "outputs": [
    {
     "data": {
      "text/plain": [
       "0                          Ömer ŞEN\n",
       "1                         Dr.roland\n",
       "2                   ÇapaMag Ekonomi\n",
       "3                         EHA MEDYA\n",
       "4                Mehmet Sedat Aydın\n",
       "                    ...            \n",
       "598093                  SerefCHElik\n",
       "598094                       peníze\n",
       "598095    Lone Wolf 128M 🥃🍷🎮🎬🌈 🏀 🎾🐈\n",
       "598096                 Selçuk Yücel\n",
       "598097                       Gülcan\n",
       "Name: user_name, Length: 598098, dtype: object"
      ]
     },
     "execution_count": 144,
     "metadata": {},
     "output_type": "execute_result"
    }
   ],
   "source": [
    "df.user_name.str"
   ]
  },
  {
   "cell_type": "code",
   "execution_count": 131,
   "id": "4ec15714",
   "metadata": {},
   "outputs": [
    {
     "data": {
      "text/plain": [
       "['Bu',\n",
       " 'co',\n",
       " '##vi',\n",
       " '##d',\n",
       " 'aşısı',\n",
       " '##nı',\n",
       " 'olsam',\n",
       " 'mı',\n",
       " 'olmasa',\n",
       " '##m',\n",
       " 'mı',\n",
       " 'karar',\n",
       " 'verem',\n",
       " '##edim',\n",
       " '.']"
      ]
     },
     "execution_count": 131,
     "metadata": {},
     "output_type": "execute_result"
    }
   ],
   "source": [
    "model."
   ]
  }
 ],
 "metadata": {
  "kernelspec": {
   "display_name": "Python 3",
   "language": "python",
   "name": "python3"
  },
  "language_info": {
   "codemirror_mode": {
    "name": "ipython",
    "version": 3
   },
   "file_extension": ".py",
   "mimetype": "text/x-python",
   "name": "python",
   "nbconvert_exporter": "python",
   "pygments_lexer": "ipython3",
   "version": "3.7.9"
  }
 },
 "nbformat": 4,
 "nbformat_minor": 5
}
