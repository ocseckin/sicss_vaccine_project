{
 "cells": [
  {
   "cell_type": "markdown",
   "id": "f8444e1b",
   "metadata": {},
   "source": [
    "## 0. Import Necessary Libraries"
   ]
  },
  {
   "cell_type": "code",
   "execution_count": 1,
   "id": "dfd9221e",
   "metadata": {},
   "outputs": [],
   "source": [
    "import glob\n",
    "import os\n",
    "import json\n",
    "import pandas as pd\n",
    "import matplotlib.pyplot as plt"
   ]
  },
  {
   "cell_type": "markdown",
   "id": "4db1b7eb",
   "metadata": {},
   "source": [
    "## 1. Load the Data"
   ]
  },
  {
   "cell_type": "markdown",
   "id": "122e5187",
   "metadata": {},
   "source": [
    "### 1.1. Create a list of files in the folder"
   ]
  },
  {
   "cell_type": "code",
   "execution_count": 2,
   "id": "24ad77a2",
   "metadata": {},
   "outputs": [],
   "source": [
    "file_list = glob.glob(os.path.join(os.getcwd(), \"D:/Users/suuser/Desktop/Cesitli/SICSS/data/vaccine_tweets\", \"*.json\"))\n",
    "\n",
    "tweet_list = [s for s in file_list if \"data_\" in s]\n",
    "user_list  = [s for s in file_list if \"users_\" in s]"
   ]
  },
  {
   "cell_type": "markdown",
   "id": "d6bfd61b",
   "metadata": {},
   "source": [
    "### 1.2. Collect all .json files"
   ]
  },
  {
   "cell_type": "code",
   "execution_count": 3,
   "id": "6d2ab49a",
   "metadata": {},
   "outputs": [],
   "source": [
    "tweet_data = []\n",
    "\n",
    "for file_name in tweet_list:\n",
    "    with open(file_name, encoding=\"utf8\") as json_file:\n",
    "        json_file = json.load(json_file)\n",
    "        for data in json_file:\n",
    "            tweet_data.append(data)\n",
    "            \n",
    "\n",
    "user_data = []\n",
    "\n",
    "for file_name in user_list:\n",
    "    with open(file_name, encoding=\"utf8\") as json_file:\n",
    "        json_file = json.load(json_file)\n",
    "        for data in json_file['users']:\n",
    "            user_data.append(data)"
   ]
  },
  {
   "cell_type": "markdown",
   "id": "62909987",
   "metadata": {},
   "source": [
    "### 1.3. Convert to Pandas DataFrame"
   ]
  },
  {
   "cell_type": "code",
   "execution_count": 4,
   "id": "f6e8a343",
   "metadata": {
    "scrolled": true
   },
   "outputs": [],
   "source": [
    "tweet_data = pd.DataFrame(tweet_data)\n",
    "user_data = pd.DataFrame(user_data)"
   ]
  },
  {
   "cell_type": "markdown",
   "id": "c99d2a1b",
   "metadata": {},
   "source": [
    "### 1.4. Drop Unnecessary Columns"
   ]
  },
  {
   "cell_type": "code",
   "execution_count": 6,
   "id": "4aa74f19",
   "metadata": {},
   "outputs": [],
   "source": [
    "tweet_data.drop(columns=['entities','context_annotations', 'referenced_tweets', 'conversation_id', 'source', 'attachments', \n",
    "                         'in_reply_to_user_id', 'withheld', 'geo'], inplace=True)\n",
    "\n",
    "\n",
    "user_data.drop(columns=['protected','profile_image_url','pinned_tweet_id', 'url', 'entities', 'withheld'], inplace=True)"
   ]
  },
  {
   "cell_type": "markdown",
   "id": "cd78846b",
   "metadata": {},
   "source": [
    "### 1.5. Change Column Names of user_data"
   ]
  },
  {
   "cell_type": "code",
   "execution_count": 18,
   "id": "ddd97f17",
   "metadata": {},
   "outputs": [],
   "source": [
    "user_data.columns = ['user_' + x for x in user_data.columns]"
   ]
  },
  {
   "cell_type": "markdown",
   "id": "e2fcb760",
   "metadata": {},
   "source": [
    "### 1.6. Merge tweet_data & user_data"
   ]
  },
  {
   "cell_type": "code",
   "execution_count": 35,
   "id": "67f455a9",
   "metadata": {
    "scrolled": true
   },
   "outputs": [],
   "source": [
    "df = tweet_data.merge(user_data.drop_duplicates('user_id'), how='left', left_on = 'author_id', right_on = 'user_id')\n",
    "df.drop(columns=['user_id'], inplace=True)"
   ]
  },
  {
   "cell_type": "markdown",
   "id": "654c5636",
   "metadata": {},
   "source": [
    "### 1.7. Convert Associated Columns to Datetime"
   ]
  },
  {
   "cell_type": "code",
   "execution_count": 395,
   "id": "accfbfba",
   "metadata": {},
   "outputs": [],
   "source": [
    "df.created_at = pd.to_datetime(df.created_at)\n",
    "df.user_created_at = pd.to_datetime(df.user_created_at)"
   ]
  },
  {
   "cell_type": "markdown",
   "id": "4b5e56bf",
   "metadata": {},
   "source": [
    "### 1.8. Save Data as .csv"
   ]
  },
  {
   "cell_type": "code",
   "execution_count": 37,
   "id": "55b80ff1",
   "metadata": {},
   "outputs": [],
   "source": [
    "df.to_csv('D:/Users/suuser/Desktop/Cesitli/SICSS/data/df.csv')"
   ]
  },
  {
   "cell_type": "code",
   "execution_count": 4,
   "id": "12076691",
   "metadata": {},
   "outputs": [],
   "source": [
    "#df = pd.read_csv('D:/Users/suuser/Desktop/Cesitli/SICSS/data/df.csv').drop(columns=['Unnamed: 0'])"
   ]
  },
  {
   "cell_type": "code",
   "execution_count": 6,
   "id": "e749eea8",
   "metadata": {},
   "outputs": [
    {
     "data": {
      "text/html": [
       "<div>\n",
       "<style scoped>\n",
       "    .dataframe tbody tr th:only-of-type {\n",
       "        vertical-align: middle;\n",
       "    }\n",
       "\n",
       "    .dataframe tbody tr th {\n",
       "        vertical-align: top;\n",
       "    }\n",
       "\n",
       "    .dataframe thead th {\n",
       "        text-align: right;\n",
       "    }\n",
       "</style>\n",
       "<table border=\"1\" class=\"dataframe\">\n",
       "  <thead>\n",
       "    <tr style=\"text-align: right;\">\n",
       "      <th></th>\n",
       "      <th>created_at</th>\n",
       "      <th>lang</th>\n",
       "      <th>text</th>\n",
       "      <th>id</th>\n",
       "      <th>public_metrics</th>\n",
       "      <th>author_id</th>\n",
       "      <th>possibly_sensitive</th>\n",
       "      <th>user_created_at</th>\n",
       "      <th>user_username</th>\n",
       "      <th>user_public_metrics</th>\n",
       "      <th>user_name</th>\n",
       "      <th>user_verified</th>\n",
       "      <th>user_description</th>\n",
       "      <th>user_location</th>\n",
       "    </tr>\n",
       "  </thead>\n",
       "  <tbody>\n",
       "    <tr>\n",
       "      <th>0</th>\n",
       "      <td>2020-03-06T22:41:42.000Z</td>\n",
       "      <td>tr</td>\n",
       "      <td>Bu aşı tutarsa ... senaryo belli .\\nGerisi mal...</td>\n",
       "      <td>1236059409144582145</td>\n",
       "      <td>{'retweet_count': 0, 'reply_count': 1, 'like_c...</td>\n",
       "      <td>890673416419889153</td>\n",
       "      <td>False</td>\n",
       "      <td>2017-07-27T20:41:05.000Z</td>\n",
       "      <td>Omer77RR</td>\n",
       "      <td>{'followers_count': 1984, 'following_count': 1...</td>\n",
       "      <td>Ömer ŞEN</td>\n",
       "      <td>False</td>\n",
       "      <td>𝓟𝓼𝓲𝓴𝓸𝓵𝓸𝓳𝓲𝓴 𝓓𝓪𝓷ı𝓼𝓶𝓪𝓷 𝓡𝓮𝓱𝓫𝓮𝓻 𝓞𝓰𝓻𝓮𝓽𝓶𝓮𝓷</td>\n",
       "      <td>NaN</td>\n",
       "    </tr>\n",
       "    <tr>\n",
       "      <th>1</th>\n",
       "      <td>2020-03-06T22:39:41.000Z</td>\n",
       "      <td>tr</td>\n",
       "      <td>@sputnik_TR Acaba Corona virüsünün hangi versi...</td>\n",
       "      <td>1236058899784052742</td>\n",
       "      <td>{'retweet_count': 0, 'reply_count': 0, 'like_c...</td>\n",
       "      <td>1510151526</td>\n",
       "      <td>False</td>\n",
       "      <td>2013-06-12T10:52:18.000Z</td>\n",
       "      <td>antentamircisi7</td>\n",
       "      <td>{'followers_count': 320, 'following_count': 49...</td>\n",
       "      <td>Dr.roland</td>\n",
       "      <td>False</td>\n",
       "      <td>NaN</td>\n",
       "      <td>NaN</td>\n",
       "    </tr>\n",
       "    <tr>\n",
       "      <th>2</th>\n",
       "      <td>2020-03-06T22:16:47.000Z</td>\n",
       "      <td>tr</td>\n",
       "      <td>Yeni tip koronavirüse (Kovid-19) karşı ABD Kar...</td>\n",
       "      <td>1236053139809320962</td>\n",
       "      <td>{'retweet_count': 0, 'reply_count': 0, 'like_c...</td>\n",
       "      <td>3312929866</td>\n",
       "      <td>False</td>\n",
       "      <td>2015-06-08T07:41:48.000Z</td>\n",
       "      <td>CapaMagEkonomi</td>\n",
       "      <td>{'followers_count': 70518, 'following_count': ...</td>\n",
       "      <td>ÇapaMag Ekonomi</td>\n",
       "      <td>False</td>\n",
       "      <td>Paranın araç değil, amaç olduğunu bilenlerin h...</td>\n",
       "      <td>İstanbul, Türkiye</td>\n",
       "    </tr>\n",
       "    <tr>\n",
       "      <th>3</th>\n",
       "      <td>2020-03-06T22:09:39.000Z</td>\n",
       "      <td>tr</td>\n",
       "      <td>📍ABD ordusundan \"koronavirüs aşısı farelerde d...</td>\n",
       "      <td>1236051344584302597</td>\n",
       "      <td>{'retweet_count': 7, 'reply_count': 2, 'like_c...</td>\n",
       "      <td>808297868410912768</td>\n",
       "      <td>False</td>\n",
       "      <td>2016-12-12T13:10:04.000Z</td>\n",
       "      <td>eha_medya</td>\n",
       "      <td>{'followers_count': 109073, 'following_count':...</td>\n",
       "      <td>EHA MEDYA</td>\n",
       "      <td>True</td>\n",
       "      <td>Korkusuz &amp; Doğru Habercilik — (Eng: @eha_news ...</td>\n",
       "      <td>NaN</td>\n",
       "    </tr>\n",
       "    <tr>\n",
       "      <th>4</th>\n",
       "      <td>2020-03-06T21:39:39.000Z</td>\n",
       "      <td>tr</td>\n",
       "      <td>@traderAT12 Pfizer, koronavirüs tedavileri pot...</td>\n",
       "      <td>1236043791909498880</td>\n",
       "      <td>{'retweet_count': 0, 'reply_count': 1, 'like_c...</td>\n",
       "      <td>1224208283831087104</td>\n",
       "      <td>True</td>\n",
       "      <td>2020-02-03T05:50:03.000Z</td>\n",
       "      <td>MehmetSedatAyd1</td>\n",
       "      <td>{'followers_count': 13, 'following_count': 143...</td>\n",
       "      <td>Mehmet Sedat Aydın</td>\n",
       "      <td>False</td>\n",
       "      <td>NaN</td>\n",
       "      <td>NaN</td>\n",
       "    </tr>\n",
       "    <tr>\n",
       "      <th>...</th>\n",
       "      <td>...</td>\n",
       "      <td>...</td>\n",
       "      <td>...</td>\n",
       "      <td>...</td>\n",
       "      <td>...</td>\n",
       "      <td>...</td>\n",
       "      <td>...</td>\n",
       "      <td>...</td>\n",
       "      <td>...</td>\n",
       "      <td>...</td>\n",
       "      <td>...</td>\n",
       "      <td>...</td>\n",
       "      <td>...</td>\n",
       "      <td>...</td>\n",
       "    </tr>\n",
       "    <tr>\n",
       "      <th>598093</th>\n",
       "      <td>2021-06-18T13:46:41.000Z</td>\n",
       "      <td>tr</td>\n",
       "      <td>@halukvehaluk ya hu biz biontech olduk yandan ...</td>\n",
       "      <td>1405884674182897664</td>\n",
       "      <td>{'retweet_count': 0, 'reply_count': 0, 'like_c...</td>\n",
       "      <td>1282554481755000832</td>\n",
       "      <td>False</td>\n",
       "      <td>2020-07-13T05:56:50.000Z</td>\n",
       "      <td>erafettinelik17</td>\n",
       "      <td>{'followers_count': 60, 'following_count': 268...</td>\n",
       "      <td>SerefCHElik</td>\n",
       "      <td>False</td>\n",
       "      <td>insan....insana dair....insnca.... ve elbette ...</td>\n",
       "      <td>İstanbul</td>\n",
       "    </tr>\n",
       "    <tr>\n",
       "      <th>598094</th>\n",
       "      <td>2021-06-18T13:46:28.000Z</td>\n",
       "      <td>tr</td>\n",
       "      <td>@mekselenya @haskologlu Sinovac ol o zaman mrn...</td>\n",
       "      <td>1405884619938054147</td>\n",
       "      <td>{'retweet_count': 0, 'reply_count': 0, 'like_c...</td>\n",
       "      <td>1309582708553781250</td>\n",
       "      <td>False</td>\n",
       "      <td>2020-09-25T19:57:12.000Z</td>\n",
       "      <td>bullsshhiiitt</td>\n",
       "      <td>{'followers_count': 23, 'following_count': 235...</td>\n",
       "      <td>peníze</td>\n",
       "      <td>False</td>\n",
       "      <td>NaN</td>\n",
       "      <td>NaN</td>\n",
       "    </tr>\n",
       "    <tr>\n",
       "      <th>598095</th>\n",
       "      <td>2021-06-18T13:46:22.000Z</td>\n",
       "      <td>tr</td>\n",
       "      <td>Bu iyi haber değil 😔 Bir an önce herkesi Biont...</td>\n",
       "      <td>1405884594906337282</td>\n",
       "      <td>{'retweet_count': 0, 'reply_count': 1, 'like_c...</td>\n",
       "      <td>169010330</td>\n",
       "      <td>False</td>\n",
       "      <td>2010-07-21T09:25:08.000Z</td>\n",
       "      <td>thedissenterone</td>\n",
       "      <td>{'followers_count': 4377, 'following_count': 3...</td>\n",
       "      <td>Lone Wolf 128M 🥃🍷🎮🎬🌈 🏀 🎾🐈</td>\n",
       "      <td>False</td>\n",
       "      <td>Hümanist, Herşeye Muhalif, KAL 97, Eczacı, Çiz...</td>\n",
       "      <td>Istanbul</td>\n",
       "    </tr>\n",
       "    <tr>\n",
       "      <th>598096</th>\n",
       "      <td>2021-06-18T13:46:13.000Z</td>\n",
       "      <td>tr</td>\n",
       "      <td>Biontech Covid19 aşısı erkeklerde sperm sayısı...</td>\n",
       "      <td>1405884557644242948</td>\n",
       "      <td>{'retweet_count': 0, 'reply_count': 0, 'like_c...</td>\n",
       "      <td>1236796922</td>\n",
       "      <td>False</td>\n",
       "      <td>2013-03-02T22:45:02.000Z</td>\n",
       "      <td>drsyucel</td>\n",
       "      <td>{'followers_count': 417, 'following_count': 60...</td>\n",
       "      <td>Selçuk Yücel</td>\n",
       "      <td>False</td>\n",
       "      <td>Pediatric/Transitional/Adult Reconstructive Ur...</td>\n",
       "      <td>İstanbul, Türkiye</td>\n",
       "    </tr>\n",
       "    <tr>\n",
       "      <th>598097</th>\n",
       "      <td>2021-06-18T13:46:08.000Z</td>\n",
       "      <td>tr</td>\n",
       "      <td>@kub_kub_kubra @DrGunerSonmez Tabiki değilim.2...</td>\n",
       "      <td>1405884536701997064</td>\n",
       "      <td>{'retweet_count': 0, 'reply_count': 0, 'like_c...</td>\n",
       "      <td>1525975730</td>\n",
       "      <td>False</td>\n",
       "      <td>2013-06-17T21:47:01.000Z</td>\n",
       "      <td>GlcanAr</td>\n",
       "      <td>{'followers_count': 32, 'following_count': 209...</td>\n",
       "      <td>Gülcan</td>\n",
       "      <td>False</td>\n",
       "      <td>NaN</td>\n",
       "      <td>NaN</td>\n",
       "    </tr>\n",
       "  </tbody>\n",
       "</table>\n",
       "<p>598098 rows × 14 columns</p>\n",
       "</div>"
      ],
      "text/plain": [
       "                      created_at lang  \\\n",
       "0       2020-03-06T22:41:42.000Z   tr   \n",
       "1       2020-03-06T22:39:41.000Z   tr   \n",
       "2       2020-03-06T22:16:47.000Z   tr   \n",
       "3       2020-03-06T22:09:39.000Z   tr   \n",
       "4       2020-03-06T21:39:39.000Z   tr   \n",
       "...                          ...  ...   \n",
       "598093  2021-06-18T13:46:41.000Z   tr   \n",
       "598094  2021-06-18T13:46:28.000Z   tr   \n",
       "598095  2021-06-18T13:46:22.000Z   tr   \n",
       "598096  2021-06-18T13:46:13.000Z   tr   \n",
       "598097  2021-06-18T13:46:08.000Z   tr   \n",
       "\n",
       "                                                     text  \\\n",
       "0       Bu aşı tutarsa ... senaryo belli .\\nGerisi mal...   \n",
       "1       @sputnik_TR Acaba Corona virüsünün hangi versi...   \n",
       "2       Yeni tip koronavirüse (Kovid-19) karşı ABD Kar...   \n",
       "3       📍ABD ordusundan \"koronavirüs aşısı farelerde d...   \n",
       "4       @traderAT12 Pfizer, koronavirüs tedavileri pot...   \n",
       "...                                                   ...   \n",
       "598093  @halukvehaluk ya hu biz biontech olduk yandan ...   \n",
       "598094  @mekselenya @haskologlu Sinovac ol o zaman mrn...   \n",
       "598095  Bu iyi haber değil 😔 Bir an önce herkesi Biont...   \n",
       "598096  Biontech Covid19 aşısı erkeklerde sperm sayısı...   \n",
       "598097  @kub_kub_kubra @DrGunerSonmez Tabiki değilim.2...   \n",
       "\n",
       "                         id  \\\n",
       "0       1236059409144582145   \n",
       "1       1236058899784052742   \n",
       "2       1236053139809320962   \n",
       "3       1236051344584302597   \n",
       "4       1236043791909498880   \n",
       "...                     ...   \n",
       "598093  1405884674182897664   \n",
       "598094  1405884619938054147   \n",
       "598095  1405884594906337282   \n",
       "598096  1405884557644242948   \n",
       "598097  1405884536701997064   \n",
       "\n",
       "                                           public_metrics  \\\n",
       "0       {'retweet_count': 0, 'reply_count': 1, 'like_c...   \n",
       "1       {'retweet_count': 0, 'reply_count': 0, 'like_c...   \n",
       "2       {'retweet_count': 0, 'reply_count': 0, 'like_c...   \n",
       "3       {'retweet_count': 7, 'reply_count': 2, 'like_c...   \n",
       "4       {'retweet_count': 0, 'reply_count': 1, 'like_c...   \n",
       "...                                                   ...   \n",
       "598093  {'retweet_count': 0, 'reply_count': 0, 'like_c...   \n",
       "598094  {'retweet_count': 0, 'reply_count': 0, 'like_c...   \n",
       "598095  {'retweet_count': 0, 'reply_count': 1, 'like_c...   \n",
       "598096  {'retweet_count': 0, 'reply_count': 0, 'like_c...   \n",
       "598097  {'retweet_count': 0, 'reply_count': 0, 'like_c...   \n",
       "\n",
       "                  author_id  possibly_sensitive           user_created_at  \\\n",
       "0        890673416419889153               False  2017-07-27T20:41:05.000Z   \n",
       "1                1510151526               False  2013-06-12T10:52:18.000Z   \n",
       "2                3312929866               False  2015-06-08T07:41:48.000Z   \n",
       "3        808297868410912768               False  2016-12-12T13:10:04.000Z   \n",
       "4       1224208283831087104                True  2020-02-03T05:50:03.000Z   \n",
       "...                     ...                 ...                       ...   \n",
       "598093  1282554481755000832               False  2020-07-13T05:56:50.000Z   \n",
       "598094  1309582708553781250               False  2020-09-25T19:57:12.000Z   \n",
       "598095            169010330               False  2010-07-21T09:25:08.000Z   \n",
       "598096           1236796922               False  2013-03-02T22:45:02.000Z   \n",
       "598097           1525975730               False  2013-06-17T21:47:01.000Z   \n",
       "\n",
       "          user_username                                user_public_metrics  \\\n",
       "0              Omer77RR  {'followers_count': 1984, 'following_count': 1...   \n",
       "1       antentamircisi7  {'followers_count': 320, 'following_count': 49...   \n",
       "2        CapaMagEkonomi  {'followers_count': 70518, 'following_count': ...   \n",
       "3             eha_medya  {'followers_count': 109073, 'following_count':...   \n",
       "4       MehmetSedatAyd1  {'followers_count': 13, 'following_count': 143...   \n",
       "...                 ...                                                ...   \n",
       "598093  erafettinelik17  {'followers_count': 60, 'following_count': 268...   \n",
       "598094    bullsshhiiitt  {'followers_count': 23, 'following_count': 235...   \n",
       "598095  thedissenterone  {'followers_count': 4377, 'following_count': 3...   \n",
       "598096         drsyucel  {'followers_count': 417, 'following_count': 60...   \n",
       "598097          GlcanAr  {'followers_count': 32, 'following_count': 209...   \n",
       "\n",
       "                        user_name  user_verified  \\\n",
       "0                        Ömer ŞEN          False   \n",
       "1                       Dr.roland          False   \n",
       "2                 ÇapaMag Ekonomi          False   \n",
       "3                       EHA MEDYA           True   \n",
       "4              Mehmet Sedat Aydın          False   \n",
       "...                           ...            ...   \n",
       "598093                SerefCHElik          False   \n",
       "598094                     peníze          False   \n",
       "598095  Lone Wolf 128M 🥃🍷🎮🎬🌈 🏀 🎾🐈          False   \n",
       "598096               Selçuk Yücel          False   \n",
       "598097                     Gülcan          False   \n",
       "\n",
       "                                         user_description      user_location  \n",
       "0                     𝓟𝓼𝓲𝓴𝓸𝓵𝓸𝓳𝓲𝓴 𝓓𝓪𝓷ı𝓼𝓶𝓪𝓷 𝓡𝓮𝓱𝓫𝓮𝓻 𝓞𝓰𝓻𝓮𝓽𝓶𝓮𝓷                NaN  \n",
       "1                                                     NaN                NaN  \n",
       "2       Paranın araç değil, amaç olduğunu bilenlerin h...  İstanbul, Türkiye  \n",
       "3       Korkusuz & Doğru Habercilik — (Eng: @eha_news ...                NaN  \n",
       "4                                                     NaN                NaN  \n",
       "...                                                   ...                ...  \n",
       "598093  insan....insana dair....insnca.... ve elbette ...           İstanbul  \n",
       "598094                                                NaN                NaN  \n",
       "598095  Hümanist, Herşeye Muhalif, KAL 97, Eczacı, Çiz...           Istanbul  \n",
       "598096  Pediatric/Transitional/Adult Reconstructive Ur...  İstanbul, Türkiye  \n",
       "598097                                                NaN                NaN  \n",
       "\n",
       "[598098 rows x 14 columns]"
      ]
     },
     "execution_count": 6,
     "metadata": {},
     "output_type": "execute_result"
    }
   ],
   "source": [
    "df"
   ]
  },
  {
   "cell_type": "markdown",
   "id": "d9eb3bdf",
   "metadata": {},
   "source": [
    "## 2. Counting Things"
   ]
  },
  {
   "cell_type": "markdown",
   "id": "bead02d4",
   "metadata": {},
   "source": [
    "### 2.1. Create Categorical Variables for Each Keyword"
   ]
  },
  {
   "cell_type": "code",
   "execution_count": 419,
   "id": "22d5bec6",
   "metadata": {
    "scrolled": true
   },
   "outputs": [],
   "source": [
    "#Çin Aşısı fayzer\"\n",
    "df.loc[df.text.str.lower().str.contains('cin asi|çin aşı|çın aşı|çin aşi|cın ası|cın aşı|çın aşi|çin asi|cin aşı'), 'cin_asi'] = 1\n",
    "\n",
    "#Sinovac\n",
    "df.loc[df.text.str.lower().str.contains('sinovac|sınovac|sınovaç|sinovaç|sinovak|coronavac'), 'sinovac'] = 1\n",
    "\n",
    "#Alman Aşısı\n",
    "df.loc[df.text.str.lower().str.contains('alman asi|alman aşı|alman aşi'), 'alman_asi'] = 1\n",
    "\n",
    "#Biontech\n",
    "df.loc[df.text.str.lower().str.contains('biontech|bıontech|biontec|bıontec'), 'biontech'] = 1\n",
    "\n",
    "#Pfizer\n",
    "df.loc[df.text.str.lower().str.contains('pfizer|pfızer'), 'pfizer'] = 1\n",
    "\n",
    "#Gavur Aşısı\n",
    "df.loc[df.text.str.lower().str.contains('gavur aşı|gavur aşi|gavur asi'), 'gavur_asi'] = 1"
   ]
  },
  {
   "cell_type": "code",
   "execution_count": 420,
   "id": "1323c6fc",
   "metadata": {
    "scrolled": false
   },
   "outputs": [
    {
     "name": "stderr",
     "output_type": "stream",
     "text": [
      "D:\\Users\\suuser\\AppData\\Local\\Programs\\Python\\Python37\\lib\\site-packages\\pandas\\core\\arrays\\datetimes.py:1104: UserWarning: Converting to PeriodArray/Index representation will drop timezone information.\n",
      "  UserWarning,\n"
     ]
    }
   ],
   "source": [
    "df['created_month'] = df.created_at.dt.to_period('m')"
   ]
  },
  {
   "cell_type": "code",
   "execution_count": 430,
   "id": "a43cb7c1",
   "metadata": {},
   "outputs": [
    {
     "data": {
      "text/plain": [
       "5305.0"
      ]
     },
     "execution_count": 430,
     "metadata": {},
     "output_type": "execute_result"
    }
   ],
   "source": [
    "df.alman_asi.sum()"
   ]
  },
  {
   "cell_type": "code",
   "execution_count": 433,
   "id": "b7aad960",
   "metadata": {
    "scrolled": false
   },
   "outputs": [
    {
     "name": "stdout",
     "output_type": "stream",
     "text": [
      "2021-06-22 12:11:59,826 - matplotlib.category - INFO\n",
      "Msg: Using categorical units to plot a list of strings that are all parsable as floats or dates. If these strings should be plotted as numbers, cast to the appropriate data type before plotting.\n",
      "\n",
      "2021-06-22 12:11:59,829 - matplotlib.category - INFO\n",
      "Msg: Using categorical units to plot a list of strings that are all parsable as floats or dates. If these strings should be plotted as numbers, cast to the appropriate data type before plotting.\n",
      "\n",
      "2021-06-22 12:11:59,888 - matplotlib.category - INFO\n",
      "Msg: Using categorical units to plot a list of strings that are all parsable as floats or dates. If these strings should be plotted as numbers, cast to the appropriate data type before plotting.\n",
      "\n",
      "2021-06-22 12:11:59,889 - matplotlib.category - INFO\n",
      "Msg: Using categorical units to plot a list of strings that are all parsable as floats or dates. If these strings should be plotted as numbers, cast to the appropriate data type before plotting.\n",
      "\n",
      "2021-06-22 12:11:59,937 - matplotlib.category - INFO\n",
      "Msg: Using categorical units to plot a list of strings that are all parsable as floats or dates. If these strings should be plotted as numbers, cast to the appropriate data type before plotting.\n",
      "\n",
      "2021-06-22 12:11:59,939 - matplotlib.category - INFO\n",
      "Msg: Using categorical units to plot a list of strings that are all parsable as floats or dates. If these strings should be plotted as numbers, cast to the appropriate data type before plotting.\n",
      "\n",
      "2021-06-22 12:11:59,991 - matplotlib.category - INFO\n",
      "Msg: Using categorical units to plot a list of strings that are all parsable as floats or dates. If these strings should be plotted as numbers, cast to the appropriate data type before plotting.\n",
      "\n",
      "2021-06-22 12:11:59,993 - matplotlib.category - INFO\n",
      "Msg: Using categorical units to plot a list of strings that are all parsable as floats or dates. If these strings should be plotted as numbers, cast to the appropriate data type before plotting.\n",
      "\n",
      "2021-06-22 12:12:00,055 - matplotlib.category - INFO\n",
      "Msg: Using categorical units to plot a list of strings that are all parsable as floats or dates. If these strings should be plotted as numbers, cast to the appropriate data type before plotting.\n",
      "\n",
      "2021-06-22 12:12:00,057 - matplotlib.category - INFO\n",
      "Msg: Using categorical units to plot a list of strings that are all parsable as floats or dates. If these strings should be plotted as numbers, cast to the appropriate data type before plotting.\n",
      "\n"
     ]
    },
    {
     "data": {
      "image/png": "[encoded data removed]",
      "text/plain": [
       "<Figure size 864x432 with 1 Axes>"
      ]
     },
     "metadata": {
      "needs_background": "light"
     },
     "output_type": "display_data"
    }
   ],
   "source": [
    "plt.figure(figsize=(12,6))\n",
    "\n",
    "plt.plot(df.pivot_table(values=['cin_asi'], index='created_month', aggfunc='sum').reset_index().created_month.astype('str'),\n",
    "         df.pivot_table(values=['cin_asi'], index='created_month', aggfunc='sum').reset_index().cin_asi, label='Çin Aşısı', c='skyblue')\n",
    "\n",
    "plt.plot(df.pivot_table(values=['sinovac'], index='created_month', aggfunc='sum').reset_index().created_month.astype('str'),\n",
    "         df.pivot_table(values=['sinovac'], index='created_month', aggfunc='sum').reset_index().sinovac, label='Sinovac')\n",
    "\n",
    "plt.plot(df.pivot_table(values=['alman_asi'], index='created_month', aggfunc='sum').reset_index().created_month.astype('str'),\n",
    "         df.pivot_table(values=['alman_asi'], index='created_month', aggfunc='sum').reset_index().alman_asi, label='Alman Aşısı', c='gray')\n",
    "\n",
    "plt.plot(df.pivot_table(values=['biontech'], index='created_month', aggfunc='sum').reset_index().created_month.astype('str'),\n",
    "         df.pivot_table(values=['biontech'], index='created_month', aggfunc='sum').reset_index().biontech, label='Biontech')\n",
    "\n",
    "plt.plot(df.pivot_table(values=['pfizer'], index='created_month', aggfunc='sum').reset_index().created_month.astype('str'),\n",
    "         df.pivot_table(values=['pfizer'], index='created_month', aggfunc='sum').reset_index().pfizer, label='Pfizer')\n",
    "\n",
    "plt.title(\"Nomenclatures' Frequency\")\n",
    "plt.xticks(rotation=90)\n",
    "plt.legend(frameon=False)\n",
    "plt.show()"
   ]
  },
  {
   "cell_type": "markdown",
   "id": "36be344a",
   "metadata": {},
   "source": [
    "## 3. Preprocess the Text\n",
    "1. Remove emojis\n",
    "2. Tokenize using Zemberek and remove incomprehensible items in text\n",
    "3. Replace punctuations with white space"
   ]
  },
  {
   "cell_type": "markdown",
   "id": "c5b92e75",
   "metadata": {},
   "source": [
    "### 3.1. Import Necessary Libraries and Define zemberek_tokenizer"
   ]
  },
  {
   "cell_type": "code",
   "execution_count": 130,
   "id": "74013aa1",
   "metadata": {},
   "outputs": [],
   "source": [
    "import nltk\n",
    "import string\n",
    "import re\n",
    "\n",
    "from zemberek import (\n",
    "    TurkishSpellChecker,\n",
    "    TurkishSentenceNormalizer,\n",
    "    TurkishSentenceExtractor,\n",
    "    TurkishMorphology,\n",
    "    TurkishTokenizer\n",
    ")\n",
    "\n",
    "zemberek_tokenizer = TurkishTokenizer.DEFAULT"
   ]
  },
  {
   "cell_type": "markdown",
   "id": "ea0696a2",
   "metadata": {},
   "source": [
    "### 3.2. Define Preprocessing Functions"
   ]
  },
  {
   "cell_type": "code",
   "execution_count": 382,
   "id": "6c236e89",
   "metadata": {},
   "outputs": [],
   "source": [
    "def deEmojify(text):\n",
    "    regrex_pattern = re.compile(pattern = \"[\"\n",
    "        u\"\\U0001F600-\\U0001F64F\"  # emoticons\n",
    "        u\"\\U0001F300-\\U0001F5FF\"  # symbols & pictographs\n",
    "        u\"\\U0001F680-\\U0001F6FF\"  # transport & map symbols\n",
    "        u\"\\U0001F1E0-\\U0001F1FF\"  # flags (iOS)\n",
    "                           \"]+\", flags = re.UNICODE)\n",
    "    return regrex_pattern.sub(r' ',text)\n",
    "\n",
    "def text_preprocess(text):\n",
    "    allowed_types = ['WordWithSymbol', 'Word', 'Punctuation', 'Number', 'UnknownWord']\n",
    "    translator = str.maketrans(string.punctuation.replace('.','').replace('@',''), ' '*len(string.punctuation.replace('.','').replace('@','')))\n",
    "    \n",
    "#    text = deEmojify(text)\n",
    "    text = \" \".join([token.content for token in zemberek_tokenizer.tokenize(text) if token.type_.name in allowed_types])\n",
    "    text = text.translate(translator)\n",
    "    text = re.sub(' +', ' ', text)\n",
    "    text = [word for word in text.split()]\n",
    "    return \" \".join(text)"
   ]
  },
  {
   "cell_type": "markdown",
   "id": "32ee71aa",
   "metadata": {},
   "source": [
    "### 3.3. Test the Preprocessing Function"
   ]
  },
  {
   "cell_type": "code",
   "execution_count": 311,
   "id": "00153bc1",
   "metadata": {
    "scrolled": false
   },
   "outputs": [
    {
     "name": "stdout",
     "output_type": "stream",
     "text": [
      "\"En kötü aşı bile en iyi koronavirüs hastalığından iyidir\"\n",
      "Bilim Kurulu Üyesi Azap, mRNA aşılarına bağlı alerjik yan etkilerin diğer aşılara göre daha fazla olduğunu söyledi, 'Ancak en kötü aşı bile en iyi koronavirüs hastalığından iyidir' dedi\n",
      "\n",
      "https://t.co/7I1gVJ8APB https://t.co/IUPlCHMSzA \n",
      "\n",
      " En kötü aşı bile en iyi koronavirüs hastalığından iyidir Bilim Kurulu Üyesi Azap mRNA aşılarına bağlı alerjik yan etkilerin diğer aşılara göre daha fazla olduğunu söyledi Ancak en kötü aşı bile en iyi koronavirüs hastalığından iyidir dedi\n"
     ]
    }
   ],
   "source": [
    "number = 203060\n",
    "text = text_preprocess(df.text[number])\n",
    "\n",
    "print(df.text[number], \"\\n\\n\", text)"
   ]
  },
  {
   "cell_type": "markdown",
   "id": "eb638caa",
   "metadata": {},
   "source": [
    "### 3.4. Preprocess the Whole DF"
   ]
  },
  {
   "cell_type": "code",
   "execution_count": 387,
   "id": "73ae6e2a",
   "metadata": {},
   "outputs": [],
   "source": [
    "df['processed_text'] = df.text.apply(lambda x: text_preprocess(x))"
   ]
  },
  {
   "cell_type": "markdown",
   "id": "470502e2",
   "metadata": {},
   "source": [
    "## 4. Sentiment Analysis"
   ]
  },
  {
   "cell_type": "markdown",
   "id": "0654facb",
   "metadata": {},
   "source": [
    "### 4.1. Model Comparison\n",
    "We find that electra-turkish-sentiment-analysis works best in our scenario"
   ]
  },
  {
   "cell_type": "code",
   "execution_count": 217,
   "id": "ed5e70bb",
   "metadata": {
    "scrolled": true
   },
   "outputs": [],
   "source": [
    "from transformers import AutoModel, AutoTokenizer, AutoModelForSequenceClassification, pipeline\n",
    "\n",
    "model_1 = AutoModelForSequenceClassification.from_pretrained(\"savasy/bert-base-turkish-sentiment-cased\")\n",
    "tokenizer_1 = AutoTokenizer.from_pretrained(\"dbmdz/bert-base-turkish-cased\")\n",
    "\n",
    "sa_1 = pipeline(\"sentiment-analysis\", tokenizer=tokenizer_1, model=model_1)"
   ]
  },
  {
   "cell_type": "code",
   "execution_count": 218,
   "id": "3415edd9",
   "metadata": {},
   "outputs": [],
   "source": [
    "model_2 = AutoModelForSequenceClassification.from_pretrained(\"kuzgunlar/electra-turkish-sentiment-analysis\")\n",
    "tokenizer_2 = AutoTokenizer.from_pretrained(\"kuzgunlar/electra-turkish-sentiment-analysis\")\n",
    "\n",
    "sa_2 = pipeline(\"sentiment-analysis\", tokenizer=tokenizer_2, model=model_2)"
   ]
  },
  {
   "cell_type": "markdown",
   "id": "7b102944",
   "metadata": {},
   "source": [
    "### 4.2. Define Sentiment Analyzer Function\n",
    "\n",
    "We use electra-turkish-sentiment-analysis for this task (experiments)"
   ]
  },
  {
   "cell_type": "code",
   "execution_count": 369,
   "id": "70879fe2",
   "metadata": {},
   "outputs": [],
   "source": [
    "def sentiment_analyzer(text):\n",
    "    result = sa_2(text)\n",
    "    \n",
    "    if result[0]['score'] <= 0.7:\n",
    "        sentiment = 0\n",
    "    \n",
    "    else:\n",
    "        if result[0]['label'] == 'Positive':\n",
    "            sentiment = 1\n",
    "\n",
    "        else:\n",
    "            sentiment = -1\n",
    "            \n",
    "    return sentiment"
   ]
  },
  {
   "cell_type": "code",
   "execution_count": 386,
   "id": "3688ba59",
   "metadata": {
    "scrolled": false
   },
   "outputs": [
    {
     "name": "stdout",
     "output_type": "stream",
     "text": [
      "1\n",
      "BioNTech ve Pfizer 2021 aşı üretim hedefini 2 milyar doza çıkardı\n",
      "[{'label': 'Positive', 'score': 0.9812076091766357}]\n"
     ]
    }
   ],
   "source": [
    "number = 203030\n",
    "\n",
    "print(sentiment_analyzer(text_preprocess(df.text[number])))\n",
    "print(text_preprocess(df.text[number]))\n",
    "print(sa_2(text_preprocess(df.text[number])))"
   ]
  },
  {
   "cell_type": "markdown",
   "id": "9ce2a300",
   "metadata": {},
   "source": [
    "### 4.3. Sentiment Analysis all DF"
   ]
  },
  {
   "cell_type": "code",
   "execution_count": 391,
   "id": "87a2958c",
   "metadata": {},
   "outputs": [],
   "source": [
    "df['sentiment'] = df.processed_text.apply(lambda x: sentiment_analyzer(x))"
   ]
  },
  {
   "cell_type": "code",
   "execution_count": 435,
   "id": "c3ad57fc",
   "metadata": {},
   "outputs": [],
   "source": [
    "df.to_csv('D:/Users/suuser/Desktop/Cesitli/SICSS/data/df_2.csv')"
   ]
  },
  {
   "cell_type": "code",
   "execution_count": 415,
   "id": "b37ac046",
   "metadata": {
    "scrolled": true
   },
   "outputs": [
    {
     "data": {
      "text/plain": [
       "[<matplotlib.lines.Line2D at 0x24213b64648>]"
      ]
     },
     "execution_count": 415,
     "metadata": {},
     "output_type": "execute_result"
    },
    {
     "data": {
      "image/png": "[encoded data removed]",
      "text/plain": [
       "<Figure size 432x288 with 1 Axes>"
      ]
     },
     "metadata": {
      "needs_background": "light"
     },
     "output_type": "display_data"
    }
   ],
   "source": [
    "plt.plot(df.pivot_table(columns=df.created_month, values='sentiment', aggfunc='sum').T.sentiment.values)"
   ]
  }
 ],
 "metadata": {
  "kernelspec": {
   "display_name": "python3.7",
   "language": "python",
   "name": "python3.7"
  },
  "language_info": {
   "codemirror_mode": {
    "name": "ipython",
    "version": 3
   },
   "file_extension": ".py",
   "mimetype": "text/x-python",
   "name": "python",
   "nbconvert_exporter": "python",
   "pygments_lexer": "ipython3",
   "version": "3.7.9"
  }
 },
 "nbformat": 4,
 "nbformat_minor": 5
}
